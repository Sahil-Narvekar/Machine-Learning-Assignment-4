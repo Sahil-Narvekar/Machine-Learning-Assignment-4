{
 "cells": [
  {
   "cell_type": "code",
   "execution_count": null,
   "metadata": {},
   "outputs": [],
   "source": [
    "1. What are the key tasks involved in getting ready to work with machine learning modeling?"
   ]
  },
  {
   "cell_type": "code",
   "execution_count": null,
   "metadata": {},
   "outputs": [],
   "source": [
    "1 - Data Collection\n",
    "2 - Data Preparation\n",
    "3 - Choose a Model\n",
    "4 - Train the Model\n",
    "5 - Evaluate the Model\n",
    "6 - Parameter Tuning\n",
    "7 - Make Predictions"
   ]
  },
  {
   "cell_type": "code",
   "execution_count": null,
   "metadata": {},
   "outputs": [],
   "source": [
    "2. What are the different forms of data used in machine learning? Give a specific example for each of\n",
    "them."
   ]
  },
  {
   "cell_type": "code",
   "execution_count": null,
   "metadata": {},
   "outputs": [],
   "source": [
    "Numerical Data\n",
    "Numerical data is any data where data points are exact numbers. Statisticians also might call numerical \n",
    "data, quantitative data. This data has meaning as a measurement such as house prices or as a count, such \n",
    "as a number of residential properties in Los Angeles or how many houses sold in the past year.\n",
    "Categorical Data\n",
    "Categorical data represents characteristics, such as a hockey player’s position, team, hometown.\n",
    "Time Series Data\n",
    "Time series data is a sequence of numbers collected at regular intervals over some period of time. \n",
    "It is very important, especially in particular fields like finance.We  measure the average number \n",
    "of home sales for many years.\n",
    "Text\n",
    "Text data is basically just words. A lot of the time the first thing that you do with text is you\n",
    "turn it into numbers using some interesting functions like the bag of words formulation."
   ]
  },
  {
   "cell_type": "code",
   "execution_count": null,
   "metadata": {},
   "outputs": [],
   "source": [
    "3. Distinguish:\n",
    "\n",
    "1. Numeric vs. categorical attributes\n",
    "\n",
    "2. Feature selection vs. dimensionality reduction"
   ]
  },
  {
   "cell_type": "code",
   "execution_count": null,
   "metadata": {},
   "outputs": [],
   "source": [
    "Categorical data is a type of data that is used to group information with similar characteristics while\n",
    "Numerical data is a type of data that expresses information in the form of numbers.\n",
    "Numerical data is mostly used for calculation problems in statistics due to its ability to perform \n",
    "arithmetic operations. For example, when designing a CGPA calculator, one may need to include commands \n",
    "that allow for the addition, subtraction, division, and multiplication. \n",
    "Categorical data, on the other hand, is mostly used for performing research that requires the use of \n",
    "respondent's personal information, opinion, etc. It is commonly used in business research.\n",
    "\n",
    "Feature selection is simply selecting and excluding given features without changing them. Dimensionality\n",
    "reduction transforms features into a lower dimension.\n",
    "Set of features made by feature selection must be a subset of the original set of features, and the set\n",
    "made by dimensionality reduction doesn't have to.\n"
   ]
  },
  {
   "cell_type": "code",
   "execution_count": null,
   "metadata": {},
   "outputs": [],
   "source": [
    "4. Make quick notes on any two of the following:\n",
    "\n",
    "1. The histogram\n",
    "\n",
    "2. Use a scatter plot\n",
    "\n",
    "3.PCA (Personal Computer Aid)"
   ]
  },
  {
   "cell_type": "code",
   "execution_count": null,
   "metadata": {},
   "outputs": [],
   "source": [
    "Histogram is a graphical display of data using bars of different heights. In a histogram, each bar groups\n",
    "numbers into ranges. Taller bars show that more data falls in that range. A histogram displays the shape \n",
    "and spread of continuous sample data.\n",
    "\n",
    "A scatter plot (aka scatter chart, scatter graph) uses dots to represent values for two different numeric \n",
    "variables. The position of each dot on the horizontal and vertical axis indicates values for an individual\n",
    "data point. Scatter plots are used to observe relationships between variables."
   ]
  },
  {
   "cell_type": "code",
   "execution_count": null,
   "metadata": {},
   "outputs": [],
   "source": [
    "5. Why is it necessary to investigate data? Is there a discrepancy in how qualitative and quantitative\n",
    "data are explored?"
   ]
  },
  {
   "cell_type": "code",
   "execution_count": null,
   "metadata": {},
   "outputs": [],
   "source": [
    "It is necessary to investigate data so as to make sure the data represents the output,taken randomly\n",
    "and considers all scenarios and not biased towards some things.Also it is important to make sure that\n",
    "there is no data lacking or carrying wrong information.Qualitative data is collected through participants\n",
    "observation and interviews.Quantative data is collected through measuring things."
   ]
  },
  {
   "cell_type": "code",
   "execution_count": null,
   "metadata": {},
   "outputs": [],
   "source": [
    "6. What are the various histogram shapes? What exactly are bins?\n",
    "Bell-shaped: A bell-shaped picture, shown below, usuallypresents a normal distribution.\n",
    "Bimodal: A bimodal shape, shown below, has two peaks.\n",
    "Skewed distribution:has a large number of occurrences in the lower value cells (left side) and few in the\n",
    "                    upper value cells (right side). \n",
    "uniform and random\n",
    "Each bin is plotted as a bar whose height corresponds to how many data points are in that bin. It shows how\n",
    "many data points lie within the range that bin represents."
   ]
  },
  {
   "cell_type": "code",
   "execution_count": null,
   "metadata": {},
   "outputs": [],
   "source": [
    "7. How do we deal with data outliers?"
   ]
  },
  {
   "cell_type": "code",
   "execution_count": null,
   "metadata": {},
   "outputs": [],
   "source": [
    "Change the value of outliers\n",
    "Remove or change outliers during post-test analysis\n",
    "Set up a filter in your testing tool\n",
    "Consider the underlying distribution\n",
    "Consider the value of mild outliers"
   ]
  },
  {
   "cell_type": "code",
   "execution_count": null,
   "metadata": {},
   "outputs": [],
   "source": [
    "8. What are the various central inclination measures? Why does mean vary too much from median in\n",
    "certain data sets?"
   ]
  },
  {
   "cell_type": "code",
   "execution_count": null,
   "metadata": {},
   "outputs": [],
   "source": [
    "The mean (average) of a data set is found by adding all numbers in the data set and then dividing by the\n",
    "number of values in the set. The median is the middle value when a data set is ordered from least to \n",
    "greatest. The mode is the number that occurs most often in a data set. IF the data is skewed then there can\n",
    "be significant differnce between mean and median."
   ]
  },
  {
   "cell_type": "code",
   "execution_count": null,
   "metadata": {},
   "outputs": [],
   "source": [
    "9. Describe how a scatter plot can be used to investigate bivariate relationships. Is it possible to find\n",
    "outliers using a scatter plot?"
   ]
  },
  {
   "cell_type": "code",
   "execution_count": null,
   "metadata": {},
   "outputs": [],
   "source": [
    "Scatter plot permits you to see at a glance the degree and pattern of relation between the two variables. \n",
    "On a bivariate plot, the abscissa (X-axis) represents the potential scores of the predictor variable and\n",
    "the ordinate (Y-axis) represents the potential scores of the predicted or outcome variable. Each point on \n",
    "the plot shows the X and Y scores for a single subject. This is what we mean by \"bivariate\" plot -- each \n",
    "point represents two variables.\n",
    "The distance of the points to the line is called \"scatter\". A large amount of scatter around the line \n",
    "indicates a weak relationship. Little scatter represents a strong relationship. If all points fall directly\n",
    "on a straight line, we have a perfect linear relationship between our two variables.\n",
    "An outlier for a scatter plot is the point or points that are farthest from the regression line. There is \n",
    "at least one outlier on a scatter plot in most cases, and there is usually only one outlier."
   ]
  },
  {
   "cell_type": "code",
   "execution_count": null,
   "metadata": {},
   "outputs": [],
   "source": [
    "10. Describe how cross-tabs can be used to figure out how two variables are related."
   ]
  },
  {
   "cell_type": "code",
   "execution_count": null,
   "metadata": {},
   "outputs": [],
   "source": [
    "A crosstab is a table showing the relationship between two or more variables. Since for 2 variables\n",
    "the correlation could be found out like example for age grup and whether they have facebook account\n",
    "cross tab corresponding to row belonging to young age group and answer for if having fb account yes\n",
    "the frequency or percentage shown would be higher."
   ]
  }
 ],
 "metadata": {
  "kernelspec": {
   "display_name": "Python 3",
   "language": "python",
   "name": "python3"
  },
  "language_info": {
   "codemirror_mode": {
    "name": "ipython",
    "version": 3
   },
   "file_extension": ".py",
   "mimetype": "text/x-python",
   "name": "python",
   "nbconvert_exporter": "python",
   "pygments_lexer": "ipython3",
   "version": "3.8.3"
  }
 },
 "nbformat": 4,
 "nbformat_minor": 4
}
